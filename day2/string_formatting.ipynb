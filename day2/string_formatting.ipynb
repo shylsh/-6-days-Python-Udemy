{
 "cells": [
  {
   "cell_type": "code",
   "execution_count": 8,
   "metadata": {},
   "outputs": [
    {
     "name": "stdout",
     "output_type": "stream",
     "text": [
      "My numbers are 10 and 5\n",
      "My numbers are 10 and 5\n",
      "My numbers are 10 and 5\n"
     ]
    }
   ],
   "source": [
    "x = 10\n",
    "y = 5\n",
    "print('My numbers are ' + str(x)+' and ' + str(y))\n",
    "print('My numbers are {} and {}'.format(x,y))\n",
    "print(f'My numbers are {x} and {y}')"
   ]
  },
  {
   "cell_type": "code",
   "execution_count": 9,
   "metadata": {},
   "outputs": [
    {
     "name": "stdout",
     "output_type": "stream",
     "text": [
      "32\n"
     ]
    }
   ],
   "source": [
    "print(874//27)"
   ]
  },
  {
   "cell_type": "code",
   "execution_count": 10,
   "metadata": {},
   "outputs": [
    {
     "name": "stdout",
     "output_type": "stream",
     "text": [
      "27.982137159266443\n"
     ]
    }
   ],
   "source": [
    "print(783**0.5)"
   ]
  },
  {
   "cell_type": "code",
   "execution_count": 12,
   "metadata": {},
   "outputs": [
    {
     "name": "stdout",
     "output_type": "stream",
     "text": [
      "2.2361\n"
     ]
    }
   ],
   "source": [
    "print(round(5**0.5,4))"
   ]
  },
  {
   "cell_type": "code",
   "execution_count": 13,
   "metadata": {},
   "outputs": [
    {
     "name": "stdout",
     "output_type": "stream",
     "text": [
      "Inception, directed by Christopher Nolan, released in 2010\n"
     ]
    }
   ],
   "source": [
    "# Define a class DVD\n",
    "class DVD:\n",
    "    def __init__(self, name, release_year, director):\n",
    "        self.name = name\n",
    "        self.release_year = release_year\n",
    "        self.director = director\n",
    "\n",
    "    def __str__(self):\n",
    "        return f\"{self.name}, directed by {self.director}, released in {self.release_year}\"\n",
    "\n",
    "# Create an array (list) to hold DVDs\n",
    "dvd_collection = [None] * 15  # List with 15 empty slots\n",
    "\n",
    "# Example of adding a DVD object\n",
    "dvd_collection[0] = DVD(\"Inception\", 2010, \"Christopher Nolan\")\n",
    "dvd_collection[1] = DVD(\"Interstellar\", 2014, \"Christopher Nolan\")\n",
    "\n",
    "# Print the first DVD\n",
    "print(dvd_collection[0])  # Output: Inception, directed by Christopher Nolan, released in 2010\n"
   ]
  },
  {
   "cell_type": "code",
   "execution_count": 17,
   "metadata": {},
   "outputs": [
    {
     "name": "stdout",
     "output_type": "stream",
     "text": [
      "Interstellar, directed by Christopher Nolan, released in 2014\n"
     ]
    }
   ],
   "source": [
    "print(dvd_collection[1])"
   ]
  },
  {
   "cell_type": "code",
   "execution_count": 18,
   "metadata": {},
   "outputs": [
    {
     "name": "stdout",
     "output_type": "stream",
     "text": [
      "[1, 4, 9, 16, 25, 36, 49, 64, 81, 100]\n"
     ]
    }
   ],
   "source": [
    "# Create a list to store square numbers (size 10)\n",
    "square_numbers = [0] * 10  \n",
    "\n",
    "# Loop through indexes 0 to 9\n",
    "for i in range(10):  \n",
    "    # Calculate square number (i + 1) * (i + 1)\n",
    "    square = (i + 1) * (i + 1)  \n",
    "    # Store it in the list\n",
    "    square_numbers[i] = square  \n",
    "\n",
    "# Print the list to verify\n",
    "print(square_numbers)  # Output: [1, 4, 9, 16, 25, 36, 49, 64, 81, 100]"
   ]
  },
  {
   "cell_type": "code",
   "execution_count": 19,
   "metadata": {},
   "outputs": [
    {
     "name": "stdout",
     "output_type": "stream",
     "text": [
      "1\n",
      "4\n",
      "9\n",
      "16\n",
      "25\n",
      "36\n",
      "49\n",
      "64\n",
      "81\n",
      "100\n"
     ]
    }
   ],
   "source": [
    "# Loop through indexes 0 to 9\n",
    "for i in range(10):  \n",
    "    # Access and print the value at index i\n",
    "    print(square_numbers[i])\n",
    "\n",
    "# Output:\n",
    "# 1\n",
    "# 4\n",
    "# 9\n",
    "# 16\n",
    "# 25\n",
    "# 36\n",
    "# 49\n",
    "# 64\n",
    "# 81\n",
    "# 100\n"
   ]
  }
 ],
 "metadata": {
  "kernelspec": {
   "display_name": "Python 3",
   "language": "python",
   "name": "python3"
  },
  "language_info": {
   "codemirror_mode": {
    "name": "ipython",
    "version": 3
   },
   "file_extension": ".py",
   "mimetype": "text/x-python",
   "name": "python",
   "nbconvert_exporter": "python",
   "pygments_lexer": "ipython3",
   "version": "3.12.8"
  }
 },
 "nbformat": 4,
 "nbformat_minor": 2
}
