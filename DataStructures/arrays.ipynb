{
 "cells": [
  {
   "cell_type": "markdown",
   "metadata": {},
   "source": [
    "# <a id='toc1_'></a>[Exercise: Array DataStructure](#toc0_)\n",
    "\n",
    "1. Let us say your expense for every month are listed below,\n",
    "\t1. January -  2200\n",
    " \t2. February - 2350\n",
    "    3. March - 2600\n",
    "    4. April - 2130\n",
    "    5. May - 2190\n",
    "\n",
    "Create a list to store these monthly expenses and using that find out,\n",
    "\n",
    "    1. In Feb, how many dollars you spent extra compare to January?\n",
    "    2. Find out your total expense in first quarter (first three months) of the year.\n",
    "    3. Find out if you spent exactly 2000 dollars in any month\n",
    "    4. June month just finished and your expense is 1980 dollar. Add this item to our monthly expense list\n",
    "    5. You returned an item that you bought in a month of April and\n",
    "    got a refund of 200$. Make a correction to your monthly expense list\n",
    "    based on this"
   ]
  },
  {
   "cell_type": "code",
   "execution_count": 1,
   "metadata": {},
   "outputs": [],
   "source": [
    "exp = [2200, 2350, 2600, 2130, 2190]"
   ]
  },
  {
   "cell_type": "code",
   "execution_count": 3,
   "metadata": {},
   "outputs": [
    {
     "name": "stdout",
     "output_type": "stream",
     "text": [
      "Extra dollars spent in feb is 150\n"
     ]
    }
   ],
   "source": [
    "# 1 Exp in feb compared to jan\n",
    "\n",
    "print('Extra dollars spent in feb is', exp[1] - exp[0])"
   ]
  },
  {
   "cell_type": "code",
   "execution_count": 4,
   "metadata": {},
   "outputs": [
    {
     "name": "stdout",
     "output_type": "stream",
     "text": [
      "The total expense in first quarter is : 7150\n"
     ]
    }
   ],
   "source": [
    "# 2 exp in first quarter\n",
    "\n",
    "first_quarter_expense = exp[0]+exp[1]+exp[2]\n",
    "print(\"The total expense in first quarter is :\",first_quarter_expense)"
   ]
  },
  {
   "cell_type": "code",
   "execution_count": 6,
   "metadata": {},
   "outputs": [],
   "source": [
    "# 3 find 2000 dollars\n",
    "\n",
    "for i in exp:\n",
    "    if i == 2000:\n",
    "        print(exp[i])\n",
    "    else:\n",
    "        break\n"
   ]
  },
  {
   "cell_type": "code",
   "execution_count": 8,
   "metadata": {},
   "outputs": [
    {
     "name": "stdout",
     "output_type": "stream",
     "text": [
      "The expense of june 1980\n"
     ]
    }
   ],
   "source": [
    "# 4. add expense for june 1980\n",
    "\n",
    "exp.append(1980)\n",
    "print(\"The expense of june\", exp[5])"
   ]
  },
  {
   "cell_type": "code",
   "execution_count": 9,
   "metadata": {},
   "outputs": [
    {
     "name": "stdout",
     "output_type": "stream",
     "text": [
      "The expense in April 1930\n"
     ]
    }
   ],
   "source": [
    "exp[3]= exp[3]-200\n",
    "print('The expense in April', exp[3])"
   ]
  },
  {
   "cell_type": "code",
   "execution_count": 10,
   "metadata": {},
   "outputs": [
    {
     "data": {
      "text/plain": [
       "[2200, 2350, 2600, 1930, 2190, 1980, 1980]"
      ]
     },
     "execution_count": 10,
     "metadata": {},
     "output_type": "execute_result"
    }
   ],
   "source": [
    "exp"
   ]
  },
  {
   "cell_type": "markdown",
   "metadata": {},
   "source": [
    "2. You have a list of your favourite marvel super heros.\n",
    "```\n",
    "heros=['spider man','thor','hulk','iron man','captain america']\n",
    "```\n",
    "\n",
    "Using this find out,\n",
    "\n",
    "    1. Length of the list\n",
    "    2. Add 'black panther' at the end of this list\n",
    "    3. You realize that you need to add 'black panther' after 'hulk',\n",
    "       so remove it from the list first and then add it after 'hulk'\n",
    "    4. Now you don't like thor and hulk because they get angry easily :)\n",
    "       So you want to remove thor and hulk from list and replace them with doctor strange (because he is cool).\n",
    "       Do that with one line of code.\n",
    "    5. Sort the heros list in alphabetical order (Hint. Use dir() functions to list down all functions available in list)"
   ]
  },
  {
   "cell_type": "code",
   "execution_count": 11,
   "metadata": {},
   "outputs": [],
   "source": [
    "heros=['spider man','thor','hulk','iron man','captain america']"
   ]
  },
  {
   "cell_type": "code",
   "execution_count": 13,
   "metadata": {},
   "outputs": [
    {
     "name": "stdout",
     "output_type": "stream",
     "text": [
      "Total Heroes : 5\n"
     ]
    }
   ],
   "source": [
    "#1 \n",
    "print('Total Heroes :',len(heros))"
   ]
  },
  {
   "cell_type": "code",
   "execution_count": 21,
   "metadata": {},
   "outputs": [
    {
     "data": {
      "text/plain": [
       "['spider man', 'thor', 'hulk', 'iron man', 'captain america', 'black panther']"
      ]
     },
     "execution_count": 21,
     "metadata": {},
     "output_type": "execute_result"
    }
   ],
   "source": [
    "#2\n",
    "heros.append('black panther')\n",
    "heros"
   ]
  },
  {
   "cell_type": "code",
   "execution_count": 22,
   "metadata": {},
   "outputs": [],
   "source": [
    "heros.remove('black panther')\n",
    "heros.insert(3,'black panther')"
   ]
  },
  {
   "cell_type": "code",
   "execution_count": 23,
   "metadata": {},
   "outputs": [
    {
     "data": {
      "text/plain": [
       "['spider man', 'thor', 'hulk', 'black panther', 'iron man', 'captain america']"
      ]
     },
     "execution_count": 23,
     "metadata": {},
     "output_type": "execute_result"
    }
   ],
   "source": [
    "heros"
   ]
  },
  {
   "cell_type": "code",
   "execution_count": 24,
   "metadata": {},
   "outputs": [
    {
     "name": "stdout",
     "output_type": "stream",
     "text": [
      "['spider man', 'doctor strange', 'black panther', 'iron man', 'captain america']\n"
     ]
    }
   ],
   "source": [
    "heros[1:3] = ['doctor strange']\n",
    "print(heros)"
   ]
  },
  {
   "cell_type": "code",
   "execution_count": 27,
   "metadata": {},
   "outputs": [
    {
     "name": "stdout",
     "output_type": "stream",
     "text": [
      "['black panther', 'captain america', 'doctor strange', 'iron man', 'spider man']\n"
     ]
    }
   ],
   "source": [
    "heros.sort()\n",
    "print(heros)"
   ]
  },
  {
   "cell_type": "markdown",
   "metadata": {},
   "source": [
    "3. Create a list of all odd numbers between 1 and a max number.\n",
    "Max number is something you need to take from a user using input() function"
   ]
  },
  {
   "cell_type": "code",
   "execution_count": 28,
   "metadata": {},
   "outputs": [
    {
     "name": "stdout",
     "output_type": "stream",
     "text": [
      "[1, 3, 5, 7, 9, 11, 13, 15, 17, 19, 21, 23, 25, 27, 29, 31, 33, 35, 37, 39, 41, 43, 45, 47, 49]\n"
     ]
    }
   ],
   "source": [
    "max_number = int(input('Enter a maximum number : '))\n",
    "odd_number = []\n",
    "for i in range(1, max_number):\n",
    "    if i%2 != 0:\n",
    "        odd_number.append(i)\n",
    "print(odd_number)"
   ]
  },
  {
   "cell_type": "code",
   "execution_count": 33,
   "metadata": {},
   "outputs": [
    {
     "name": "stdout",
     "output_type": "stream",
     "text": [
      "[1, 1, 1, 2, 3, 4]\n"
     ]
    }
   ],
   "source": [
    "heights = [1,1,4,2,1,3]\n",
    "expected_height = sorted(heights)\n",
    "print(expected_height)"
   ]
  },
  {
   "cell_type": "code",
   "execution_count": 46,
   "metadata": {},
   "outputs": [
    {
     "name": "stdout",
     "output_type": "stream",
     "text": [
      "3\n"
     ]
    }
   ],
   "source": [
    "heights = [1,1,4,2,1,3]\n",
    "expected_height = sorted(heights)\n",
    "\n",
    "count = 0\n",
    "for i in range(len(heights)):\n",
    "    if heights[i] != expected_height[i]:\n",
    "        count += 1\n",
    "\n",
    "print(count)\n"
   ]
  },
  {
   "cell_type": "code",
   "execution_count": 47,
   "metadata": {},
   "outputs": [],
   "source": [
    "def heightChecker(heights):\n",
    "    expected_height = sorted(heights)\n",
    "\n",
    "    return sum (1 for i in range(len(heights)) if heights[i] != expected_height[i])\n"
   ]
  },
  {
   "cell_type": "code",
   "execution_count": 48,
   "metadata": {},
   "outputs": [
    {
     "data": {
      "text/plain": [
       "5"
      ]
     },
     "execution_count": 48,
     "metadata": {},
     "output_type": "execute_result"
    }
   ],
   "source": [
    "heights = [5,1,2,3,4]\n",
    "heightChecker(heights)"
   ]
  },
  {
   "cell_type": "code",
   "execution_count": 59,
   "metadata": {},
   "outputs": [],
   "source": [
    "def thirdMax(nums):\n",
    "    nums = list(set(nums))\n",
    "    nums.sort(reverse=True)\n",
    "    return nums[2] if len(nums) >=3 else nums[0]"
   ]
  },
  {
   "cell_type": "code",
   "execution_count": 63,
   "metadata": {},
   "outputs": [
    {
     "data": {
      "text/plain": [
       "5"
      ]
     },
     "execution_count": 63,
     "metadata": {},
     "output_type": "execute_result"
    }
   ],
   "source": [
    "nums = [4,5]\n",
    "thirdMax(nums)"
   ]
  },
  {
   "cell_type": "code",
   "execution_count": 86,
   "metadata": {},
   "outputs": [],
   "source": [
    "a = [0,1,5,0,12,9,0]"
   ]
  },
  {
   "cell_type": "code",
   "execution_count": 66,
   "metadata": {},
   "outputs": [
    {
     "name": "stdout",
     "output_type": "stream",
     "text": [
      "[1, 5, 12, 9, 0, 0, 0]\n"
     ]
    }
   ],
   "source": [
    "zero_array = []\n",
    "rem_array = []\n",
    "for i in range(len(a)):\n",
    "    if a[i] == 0:\n",
    "        zero_array.append(a[i])\n",
    "    else:\n",
    "        rem_array.append(a[i])\n",
    "print(rem_array + zero_array)"
   ]
  },
  {
   "cell_type": "code",
   "execution_count": 84,
   "metadata": {},
   "outputs": [],
   "source": [
    "def moveZeroes(nums):\n",
    "    l = 0\n",
    "    for i in range(len(nums)):\n",
    "        if nums[i]!=0:\n",
    "            nums[l],nums[i] = nums[i],nums[l]\n",
    "            l += 1\n",
    "    return nums"
   ]
  },
  {
   "cell_type": "code",
   "execution_count": 87,
   "metadata": {},
   "outputs": [
    {
     "data": {
      "text/plain": [
       "[1, 5, 12, 9, 0, 0, 0]"
      ]
     },
     "execution_count": 87,
     "metadata": {},
     "output_type": "execute_result"
    }
   ],
   "source": [
    "moveZeroes(a)"
   ]
  },
  {
   "cell_type": "code",
   "execution_count": 88,
   "metadata": {},
   "outputs": [
    {
     "data": {
      "text/plain": [
       "[1, 3, 12, 0, 0]"
      ]
     },
     "execution_count": 88,
     "metadata": {},
     "output_type": "execute_result"
    }
   ],
   "source": [
    "nums = [0,1,0,3,12]\n",
    "moveZeroes(nums)"
   ]
  },
  {
   "cell_type": "code",
   "execution_count": 7,
   "metadata": {},
   "outputs": [],
   "source": [
    "# Declare an integer list with 6 elements (initialized to None)\n",
    "int_array = [None] * 6\n",
    "length = 0\n",
    "\n",
    "# Add 3 elements to the list\n",
    "for i in range(3):\n",
    "    int_array[length] = i\n",
    "    length += 1\n"
   ]
  },
  {
   "cell_type": "code",
   "execution_count": 8,
   "metadata": {},
   "outputs": [
    {
     "data": {
      "text/plain": [
       "[0, 1, 2, None, None, None]"
      ]
     },
     "execution_count": 8,
     "metadata": {},
     "output_type": "execute_result"
    }
   ],
   "source": [
    "int_array"
   ]
  },
  {
   "cell_type": "code",
   "execution_count": 9,
   "metadata": {},
   "outputs": [
    {
     "name": "stdout",
     "output_type": "stream",
     "text": [
      "Index 0 contains 0\n",
      "Index 1 contains 1\n",
      "Index 2 contains 2\n",
      "Index 3 contains None\n",
      "Index 4 contains None\n",
      "Index 5 contains None\n"
     ]
    }
   ],
   "source": [
    "# Print the elements of the list with their indices\n",
    "for i in range(len(int_array)):\n",
    "    print(f\"Index {i} contains {int_array[i]}\")\n"
   ]
  },
  {
   "cell_type": "code",
   "execution_count": 10,
   "metadata": {},
   "outputs": [
    {
     "data": {
      "text/plain": [
       "[0, 1, 2, None, None, None]"
      ]
     },
     "execution_count": 10,
     "metadata": {},
     "output_type": "execute_result"
    }
   ],
   "source": [
    "int_array"
   ]
  },
  {
   "cell_type": "code",
   "execution_count": 11,
   "metadata": {},
   "outputs": [],
   "source": [
    "int_array.append(10)"
   ]
  },
  {
   "cell_type": "code",
   "execution_count": 12,
   "metadata": {},
   "outputs": [
    {
     "data": {
      "text/plain": [
       "[20, 0, 1, 2, None, None, None, 10]"
      ]
     },
     "execution_count": 12,
     "metadata": {},
     "output_type": "execute_result"
    }
   ],
   "source": [
    "int_array.insert(0, 20)  # Inserts 20 at the beginning, shifting elements automatically\n",
    "int_array"
   ]
  },
  {
   "cell_type": "code",
   "execution_count": 13,
   "metadata": {},
   "outputs": [
    {
     "data": {
      "text/plain": [
       "[20, 0, 30, 1, 2, None, None, None, 10]"
      ]
     },
     "execution_count": 13,
     "metadata": {},
     "output_type": "execute_result"
    }
   ],
   "source": [
    "int_array.insert(2, 30)  # Inserts 30 at index 2 and shifts elements automatically\n",
    "int_array"
   ]
  },
  {
   "cell_type": "code",
   "execution_count": 14,
   "metadata": {},
   "outputs": [],
   "source": [
    "def duplicate_zeros(arr):\n",
    "    l = len(arr)\n",
    "    i = 0\n",
    "    while i<l:\n",
    "        if arr[i]==0:\n",
    "            arr.insert(i+1,0)\n",
    "            arr.pop()\n",
    "            i+=1\n",
    "        i+=1\n",
    "        \n",
    "            "
   ]
  },
  {
   "cell_type": "code",
   "execution_count": 18,
   "metadata": {},
   "outputs": [
    {
     "name": "stdout",
     "output_type": "stream",
     "text": [
      "[1, 0, 0, 2, 3, 0, 0, 4]\n"
     ]
    }
   ],
   "source": [
    "arr = [1,0,2,3,0,4,5,0]\n",
    "duplicate_zeros(arr)\n",
    "print(arr)"
   ]
  },
  {
   "cell_type": "code",
   "execution_count": 17,
   "metadata": {},
   "outputs": [
    {
     "name": "stdout",
     "output_type": "stream",
     "text": [
      "[1, 2, 3]\n"
     ]
    }
   ],
   "source": [
    "arr = [1,2,3]\n",
    "duplicate_zeros(arr)\n",
    "print(arr)"
   ]
  },
  {
   "cell_type": "code",
   "execution_count": 4,
   "metadata": {},
   "outputs": [
    {
     "name": "stdout",
     "output_type": "stream",
     "text": [
      "Index 0 contains 0\n",
      "Index 1 contains 1\n",
      "Index 2 contains 2\n",
      "Index 3 contains 3\n",
      "Index 4 contains 4\n",
      "Index 5 contains 5\n",
      "Index 6 contains None\n",
      "Index 7 contains None\n",
      "Index 8 contains None\n",
      "Index 9 contains None\n",
      "Index 0 contains 0\n",
      "Index 1 contains 1\n",
      "Index 2 contains 2\n",
      "Index 3 contains 3\n",
      "Index 4 contains 4\n",
      "Index 0 contains 1\n",
      "Index 1 contains 3\n",
      "Index 2 contains 4\n"
     ]
    }
   ],
   "source": [
    "# Declare an integer list with space for 10 elements\n",
    "int_array = [None] * 10  \n",
    "\n",
    "# The array currently contains 0 elements\n",
    "length = 0  \n",
    "\n",
    "# Add elements at the first 6 indexes of the list\n",
    "for i in range(6):\n",
    "    int_array[length] = i\n",
    "    length += 1\n",
    "\n",
    "# Deletion from the end (reduce the length)\n",
    "length -= 1  \n",
    "\n",
    "# Print entire array (including None values)\n",
    "for i in range(len(int_array)):\n",
    "    print(f\"Index {i} contains {int_array[i]}\")\n",
    "\n",
    "# Print only valid elements\n",
    "for i in range(length):\n",
    "    print(f\"Index {i} contains {int_array[i]}\")\n",
    "\n",
    "# Shift elements to the left, starting at index 1 (deleting index 0)\n",
    "for i in range(1, length):\n",
    "    int_array[i - 1] = int_array[i]\n",
    "\n",
    "# Reduce the length after deletion\n",
    "length -= 1  \n",
    "\n",
    "# Delete the element at index 1 (by shifting left from index 2)\n",
    "for i in range(2, length):\n",
    "    int_array[i - 1] = int_array[i]\n",
    "\n",
    "# Reduce the length after deletion\n",
    "length -= 1  \n",
    "\n",
    "# Print final array state (valid elements only)\n",
    "for i in range(length):\n",
    "    print(f\"Index {i} contains {int_array[i]}\")\n"
   ]
  },
  {
   "cell_type": "code",
   "execution_count": 5,
   "metadata": {},
   "outputs": [],
   "source": [
    "# Declare an integer list with space for 10 elements\n",
    "int_array = [None] * 10  \n",
    "\n",
    "# The array currently contains 0 elements\n",
    "length = 0  \n",
    "\n",
    "# Add elements at the first 6 indexes of the list\n",
    "for i in range(6):\n",
    "    int_array[length] = i\n",
    "    length += 1\n",
    "\n",
    "# Deletion from the end (reduce the length)\n",
    "length -= 1 "
   ]
  },
  {
   "cell_type": "code",
   "execution_count": 8,
   "metadata": {},
   "outputs": [
    {
     "name": "stdout",
     "output_type": "stream",
     "text": [
      "Index 0 contains 0\n",
      "Index 1 contains 1\n",
      "Index 2 contains 2\n",
      "Index 3 contains 3\n",
      "Index 4 contains 4\n",
      "Index 5 contains 5\n",
      "Index 6 contains None\n",
      "Index 7 contains None\n",
      "Index 8 contains None\n",
      "Index 9 contains None\n"
     ]
    }
   ],
   "source": [
    "# Print entire array (including None values)\n",
    "for i in range(len(int_array)):\n",
    "    print(f\"Index {i} contains {int_array[i]}\")"
   ]
  },
  {
   "cell_type": "code",
   "execution_count": 6,
   "metadata": {},
   "outputs": [
    {
     "data": {
      "text/plain": [
       "[0, 1, 2, 3, 4, 5, None, None, None, None]"
      ]
     },
     "execution_count": 6,
     "metadata": {},
     "output_type": "execute_result"
    }
   ],
   "source": [
    "int_array"
   ]
  },
  {
   "cell_type": "code",
   "execution_count": 7,
   "metadata": {},
   "outputs": [
    {
     "data": {
      "text/plain": [
       "5"
      ]
     },
     "execution_count": 7,
     "metadata": {},
     "output_type": "execute_result"
    }
   ],
   "source": [
    "length"
   ]
  },
  {
   "cell_type": "code",
   "execution_count": 10,
   "metadata": {},
   "outputs": [
    {
     "name": "stdout",
     "output_type": "stream",
     "text": [
      "Index 0 contains 2\n",
      "Index 1 contains 3\n",
      "Index 2 contains 4\n",
      "Index 3 contains 4\n",
      "Index 4 contains 4\n"
     ]
    }
   ],
   "source": [
    "# Shift elements to the left, starting at index 1 (deleting index 0)\n",
    "for i in range(1, length):\n",
    "    int_array[i - 1] = int_array[i]\n",
    "# Print final array state (valid elements only)\n",
    "for i in range(length):\n",
    "    print(f\"Index {i} contains {int_array[i]}\")\n"
   ]
  },
  {
   "cell_type": "code",
   "execution_count": 31,
   "metadata": {},
   "outputs": [],
   "source": [
    "def removeElement(nums,val):\n",
    "    count = 0\n",
    "    for i in nums:\n",
    "        if i != val:\n",
    "            nums[count] = i\n",
    "            count+=1\n",
    "    print(count)\n",
    "    \n",
    "    for i in range(count,len(nums)):\n",
    "        nums[i] = None\n",
    "    print(nums)"
   ]
  },
  {
   "cell_type": "code",
   "execution_count": 32,
   "metadata": {},
   "outputs": [
    {
     "name": "stdout",
     "output_type": "stream",
     "text": [
      "2\n",
      "[2, 2, None, None]\n"
     ]
    }
   ],
   "source": [
    "nums = [3,2,2,3]\n",
    "val = 3\n",
    "removeElement(nums,val)"
   ]
  },
  {
   "cell_type": "markdown",
   "metadata": {},
   "source": [
    "**Table of contents**<a id='toc0_'></a>    \n",
    "- [Exercise: Array DataStructure](#toc1_)    \n",
    "\n",
    "<!-- vscode-jupyter-toc-config\n",
    "\tnumbering=false\n",
    "\tanchor=true\n",
    "\tflat=false\n",
    "\tminLevel=1\n",
    "\tmaxLevel=6\n",
    "\t/vscode-jupyter-toc-config -->\n",
    "<!-- THIS CELL WILL BE REPLACED ON TOC UPDATE. DO NOT WRITE YOUR TEXT IN THIS CELL -->"
   ]
  },
  {
   "cell_type": "code",
   "execution_count": 50,
   "metadata": {},
   "outputs": [],
   "source": [
    "def removeElement1(nums, val):\n",
    "    k = 0  # Counter for elements that are not 'val'\n",
    "\n",
    "    for i in range(len(nums)):  # Iterate over the list\n",
    "        if nums[i] != val:\n",
    "            nums[k] = nums[i]  # Move the non-'val' element forward\n",
    "            k += 1  # Increment the counter\n",
    "    for i in range(k,len(nums)):\n",
    "        nums[i] = None\n",
    "    print(nums)\n",
    "    return k  # Return the count of non-'val' elements\n",
    "    "
   ]
  },
  {
   "cell_type": "code",
   "execution_count": 51,
   "metadata": {},
   "outputs": [
    {
     "name": "stdout",
     "output_type": "stream",
     "text": [
      "[2, 2, None, None]\n"
     ]
    },
    {
     "data": {
      "text/plain": [
       "2"
      ]
     },
     "execution_count": 51,
     "metadata": {},
     "output_type": "execute_result"
    }
   ],
   "source": [
    "nums = [3,2,2,3]\n",
    "val = 3\n",
    "removeElement1(nums,val)"
   ]
  },
  {
   "cell_type": "code",
   "execution_count": null,
   "metadata": {},
   "outputs": [],
   "source": []
  }
 ],
 "metadata": {
  "kernelspec": {
   "display_name": "Python 3",
   "language": "python",
   "name": "python3"
  },
  "language_info": {
   "codemirror_mode": {
    "name": "ipython",
    "version": 3
   },
   "file_extension": ".py",
   "mimetype": "text/x-python",
   "name": "python",
   "nbconvert_exporter": "python",
   "pygments_lexer": "ipython3",
   "version": "3.12.9"
  }
 },
 "nbformat": 4,
 "nbformat_minor": 2
}
