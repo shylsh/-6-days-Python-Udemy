{
 "cells": [
  {
   "cell_type": "markdown",
   "metadata": {},
   "source": [
    "# Exercise: Array DataStructure\n",
    "\n",
    "1. Let us say your expense for every month are listed below,\n",
    "\t1. January -  2200\n",
    " \t2. February - 2350\n",
    "    3. March - 2600\n",
    "    4. April - 2130\n",
    "    5. May - 2190\n",
    "\n",
    "Create a list to store these monthly expenses and using that find out,\n",
    "\n",
    "    1. In Feb, how many dollars you spent extra compare to January?\n",
    "    2. Find out your total expense in first quarter (first three months) of the year.\n",
    "    3. Find out if you spent exactly 2000 dollars in any month\n",
    "    4. June month just finished and your expense is 1980 dollar. Add this item to our monthly expense list\n",
    "    5. You returned an item that you bought in a month of April and\n",
    "    got a refund of 200$. Make a correction to your monthly expense list\n",
    "    based on this"
   ]
  },
  {
   "cell_type": "code",
   "execution_count": 1,
   "metadata": {},
   "outputs": [],
   "source": [
    "exp = [2200, 2350, 2600, 2130, 2190]"
   ]
  },
  {
   "cell_type": "code",
   "execution_count": 3,
   "metadata": {},
   "outputs": [
    {
     "name": "stdout",
     "output_type": "stream",
     "text": [
      "Extra dollars spent in feb is 150\n"
     ]
    }
   ],
   "source": [
    "# 1 Exp in feb compared to jan\n",
    "\n",
    "print('Extra dollars spent in feb is', exp[1] - exp[0])"
   ]
  },
  {
   "cell_type": "code",
   "execution_count": 4,
   "metadata": {},
   "outputs": [
    {
     "name": "stdout",
     "output_type": "stream",
     "text": [
      "The total expense in first quarter is : 7150\n"
     ]
    }
   ],
   "source": [
    "# 2 exp in first quarter\n",
    "\n",
    "first_quarter_expense = exp[0]+exp[1]+exp[2]\n",
    "print(\"The total expense in first quarter is :\",first_quarter_expense)"
   ]
  },
  {
   "cell_type": "code",
   "execution_count": 6,
   "metadata": {},
   "outputs": [],
   "source": [
    "# 3 find 2000 dollars\n",
    "\n",
    "for i in exp:\n",
    "    if i == 2000:\n",
    "        print(exp[i])\n",
    "    else:\n",
    "        break\n"
   ]
  },
  {
   "cell_type": "code",
   "execution_count": 8,
   "metadata": {},
   "outputs": [
    {
     "name": "stdout",
     "output_type": "stream",
     "text": [
      "The expense of june 1980\n"
     ]
    }
   ],
   "source": [
    "# 4. add expense for june 1980\n",
    "\n",
    "exp.append(1980)\n",
    "print(\"The expense of june\", exp[5])"
   ]
  },
  {
   "cell_type": "code",
   "execution_count": 9,
   "metadata": {},
   "outputs": [
    {
     "name": "stdout",
     "output_type": "stream",
     "text": [
      "The expense in April 1930\n"
     ]
    }
   ],
   "source": [
    "exp[3]= exp[3]-200\n",
    "print('The expense in April', exp[3])"
   ]
  },
  {
   "cell_type": "code",
   "execution_count": 10,
   "metadata": {},
   "outputs": [
    {
     "data": {
      "text/plain": [
       "[2200, 2350, 2600, 1930, 2190, 1980, 1980]"
      ]
     },
     "execution_count": 10,
     "metadata": {},
     "output_type": "execute_result"
    }
   ],
   "source": [
    "exp"
   ]
  },
  {
   "cell_type": "markdown",
   "metadata": {},
   "source": [
    "2. You have a list of your favourite marvel super heros.\n",
    "```\n",
    "heros=['spider man','thor','hulk','iron man','captain america']\n",
    "```\n",
    "\n",
    "Using this find out,\n",
    "\n",
    "    1. Length of the list\n",
    "    2. Add 'black panther' at the end of this list\n",
    "    3. You realize that you need to add 'black panther' after 'hulk',\n",
    "       so remove it from the list first and then add it after 'hulk'\n",
    "    4. Now you don't like thor and hulk because they get angry easily :)\n",
    "       So you want to remove thor and hulk from list and replace them with doctor strange (because he is cool).\n",
    "       Do that with one line of code.\n",
    "    5. Sort the heros list in alphabetical order (Hint. Use dir() functions to list down all functions available in list)"
   ]
  },
  {
   "cell_type": "code",
   "execution_count": 11,
   "metadata": {},
   "outputs": [],
   "source": [
    "heros=['spider man','thor','hulk','iron man','captain america']"
   ]
  },
  {
   "cell_type": "code",
   "execution_count": 13,
   "metadata": {},
   "outputs": [
    {
     "name": "stdout",
     "output_type": "stream",
     "text": [
      "Total Heroes : 5\n"
     ]
    }
   ],
   "source": [
    "#1 \n",
    "print('Total Heroes :',len(heros))"
   ]
  },
  {
   "cell_type": "code",
   "execution_count": 21,
   "metadata": {},
   "outputs": [
    {
     "data": {
      "text/plain": [
       "['spider man', 'thor', 'hulk', 'iron man', 'captain america', 'black panther']"
      ]
     },
     "execution_count": 21,
     "metadata": {},
     "output_type": "execute_result"
    }
   ],
   "source": [
    "#2\n",
    "heros.append('black panther')\n",
    "heros"
   ]
  },
  {
   "cell_type": "code",
   "execution_count": 22,
   "metadata": {},
   "outputs": [],
   "source": [
    "heros.remove('black panther')\n",
    "heros.insert(3,'black panther')"
   ]
  },
  {
   "cell_type": "code",
   "execution_count": 23,
   "metadata": {},
   "outputs": [
    {
     "data": {
      "text/plain": [
       "['spider man', 'thor', 'hulk', 'black panther', 'iron man', 'captain america']"
      ]
     },
     "execution_count": 23,
     "metadata": {},
     "output_type": "execute_result"
    }
   ],
   "source": [
    "heros"
   ]
  },
  {
   "cell_type": "code",
   "execution_count": 24,
   "metadata": {},
   "outputs": [
    {
     "name": "stdout",
     "output_type": "stream",
     "text": [
      "['spider man', 'doctor strange', 'black panther', 'iron man', 'captain america']\n"
     ]
    }
   ],
   "source": [
    "heros[1:3] = ['doctor strange']\n",
    "print(heros)"
   ]
  },
  {
   "cell_type": "code",
   "execution_count": 27,
   "metadata": {},
   "outputs": [
    {
     "name": "stdout",
     "output_type": "stream",
     "text": [
      "['black panther', 'captain america', 'doctor strange', 'iron man', 'spider man']\n"
     ]
    }
   ],
   "source": [
    "heros.sort()\n",
    "print(heros)"
   ]
  },
  {
   "cell_type": "markdown",
   "metadata": {},
   "source": [
    "3. Create a list of all odd numbers between 1 and a max number.\n",
    "Max number is something you need to take from a user using input() function"
   ]
  },
  {
   "cell_type": "code",
   "execution_count": 28,
   "metadata": {},
   "outputs": [
    {
     "name": "stdout",
     "output_type": "stream",
     "text": [
      "[1, 3, 5, 7, 9, 11, 13, 15, 17, 19, 21, 23, 25, 27, 29, 31, 33, 35, 37, 39, 41, 43, 45, 47, 49]\n"
     ]
    }
   ],
   "source": [
    "max_number = int(input('Enter a maximum number : '))\n",
    "odd_number = []\n",
    "for i in range(1, max_number):\n",
    "    if i%2 != 0:\n",
    "        odd_number.append(i)\n",
    "print(odd_number)"
   ]
  }
 ],
 "metadata": {
  "kernelspec": {
   "display_name": "Python 3",
   "language": "python",
   "name": "python3"
  },
  "language_info": {
   "codemirror_mode": {
    "name": "ipython",
    "version": 3
   },
   "file_extension": ".py",
   "mimetype": "text/x-python",
   "name": "python",
   "nbconvert_exporter": "python",
   "pygments_lexer": "ipython3",
   "version": "3.12.8"
  }
 },
 "nbformat": 4,
 "nbformat_minor": 2
}
