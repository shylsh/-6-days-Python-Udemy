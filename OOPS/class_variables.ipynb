{
 "cells": [
  {
   "cell_type": "code",
   "execution_count": 5,
   "metadata": {},
   "outputs": [],
   "source": [
    "# class variables\n",
    "\n",
    "class Student:\n",
    "    total_marks = 100\n",
    "    def __init__(self,name,age,marks):\n",
    "        self.name = name\n",
    "        self.age = age\n",
    "        self.marks = marks\n",
    "        self.total_marks = Student.total_marks"
   ]
  },
  {
   "cell_type": "code",
   "execution_count": 6,
   "metadata": {},
   "outputs": [],
   "source": [
    "s1 = Student('s',15,50)\n",
    "s2 = Student('p',15,30)\n",
    "s3 = Student('q',15,40)\n",
    "s4 = Student('r',15,90)\n",
    "s5 = Student('f',15,76)\n",
    "s6 = Student('t',15,20)\n",
    "s7 = Student('u',15,90)\n",
    "s8 = Student('v',15,87)"
   ]
  },
  {
   "cell_type": "code",
   "execution_count": 7,
   "metadata": {},
   "outputs": [
    {
     "data": {
      "text/plain": [
       "100"
      ]
     },
     "execution_count": 7,
     "metadata": {},
     "output_type": "execute_result"
    }
   ],
   "source": [
    "s1.total_marks"
   ]
  },
  {
   "cell_type": "markdown",
   "metadata": {},
   "source": [
    "define a Circle class with 2 variables\n",
    "1. Circle circumference\n",
    "2. Circle Area"
   ]
  },
  {
   "cell_type": "code",
   "execution_count": 9,
   "metadata": {},
   "outputs": [],
   "source": [
    "class Circle():\n",
    "    def __init__(self, radius, pi):\n",
    "        self.radius = radius\n",
    "        self.pi = pi\n",
    "    def circumference(self):\n",
    "        formula_circumference = 2* self.pi * self.radius\n",
    "        return formula_circumference\n",
    "    def area(self):\n",
    "        formula_area = self.pi * self.radius **2\n",
    "        return formula_area"
   ]
  },
  {
   "cell_type": "code",
   "execution_count": 10,
   "metadata": {},
   "outputs": [],
   "source": [
    "c1 = Circle(23,3.14)\n",
    "c2 = Circle(24,3.14)"
   ]
  },
  {
   "cell_type": "code",
   "execution_count": 13,
   "metadata": {},
   "outputs": [
    {
     "data": {
      "text/plain": [
       "1661.0600000000002"
      ]
     },
     "execution_count": 13,
     "metadata": {},
     "output_type": "execute_result"
    }
   ],
   "source": [
    "c1.area()"
   ]
  },
  {
   "cell_type": "code",
   "execution_count": 14,
   "metadata": {},
   "outputs": [
    {
     "data": {
      "text/plain": [
       "150.72"
      ]
     },
     "execution_count": 14,
     "metadata": {},
     "output_type": "execute_result"
    }
   ],
   "source": [
    "c2.circumference()"
   ]
  },
  {
   "cell_type": "code",
   "execution_count": 17,
   "metadata": {},
   "outputs": [],
   "source": [
    "class Circle1():\n",
    "    pi = 3.14\n",
    "    def __init__(self, radius):\n",
    "        self.radius = radius\n",
    "        self.pi = Circle1.pi\n",
    "    def circumference(self):\n",
    "        formula_circumference = 2* Circle1.pi * self.radius\n",
    "        return formula_circumference\n",
    "    def area(self):\n",
    "        formula_area = Circle1.pi * self.radius **2\n",
    "        return formula_area"
   ]
  },
  {
   "cell_type": "code",
   "execution_count": 20,
   "metadata": {},
   "outputs": [],
   "source": [
    "c3 = Circle1(23)\n",
    "c4 = Circle1(34)"
   ]
  },
  {
   "cell_type": "code",
   "execution_count": 21,
   "metadata": {},
   "outputs": [
    {
     "data": {
      "text/plain": [
       "1661.0600000000002"
      ]
     },
     "execution_count": 21,
     "metadata": {},
     "output_type": "execute_result"
    }
   ],
   "source": [
    "c3.area()"
   ]
  }
 ],
 "metadata": {
  "kernelspec": {
   "display_name": "Python 3",
   "language": "python",
   "name": "python3"
  },
  "language_info": {
   "codemirror_mode": {
    "name": "ipython",
    "version": 3
   },
   "file_extension": ".py",
   "mimetype": "text/x-python",
   "name": "python",
   "nbconvert_exporter": "python",
   "pygments_lexer": "ipython3",
   "version": "3.12.8"
  }
 },
 "nbformat": 4,
 "nbformat_minor": 2
}
