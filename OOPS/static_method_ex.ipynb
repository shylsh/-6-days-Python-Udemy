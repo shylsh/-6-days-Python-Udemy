{
 "cells": [
  {
   "cell_type": "code",
   "execution_count": 2,
   "metadata": {},
   "outputs": [
    {
     "name": "stderr",
     "output_type": "stream",
     "text": [
      "<>:13: SyntaxWarning: invalid escape sequence '\\d'\n",
      "<>:13: SyntaxWarning: invalid escape sequence '\\d'\n",
      "C:\\Users\\shail\\AppData\\Local\\Temp\\ipykernel_79268\\3682262788.py:13: SyntaxWarning: invalid escape sequence '\\d'\n",
      "  data = re.findall('\\d{2}-\\d{2}-\\d{4}|\\d{2}/\\d{2}/\\{4}',string)[0] #17-06-2022\n"
     ]
    }
   ],
   "source": [
    "class Date:\n",
    "    def __init__(self,year,month,day): # Constructor/ init\n",
    "        self.year = year\n",
    "        self.month = month\n",
    "        self.day = day\n",
    "    \n",
    "    def arrange_value_into_date(self):\n",
    "        date = str(self.day) + '-' + str(self.month) + '-' +str(self.year)\n",
    "        return date\n",
    "    @classmethod\n",
    "    def getDatafromString(clr,string):\n",
    "        import re\n",
    "        data = re.findall('\\d{2}-\\d{2}-\\d{4}|\\d{2}/\\d{2}/\\{4}',string)[0] #17-06-2022\n",
    "        list_date = data.replace('/','-').split('-')\n",
    "        date = list_date[0]\n",
    "        month = list_date[1]\n",
    "        year = list_date[2]\n",
    "        return clr(year,month,date)\n",
    "    \n",
    "    @staticmethod\n",
    "    \n",
    "    def setDatePattern(string):\n",
    "        list1 = string.replace('/','-').split('-')\n",
    "        date_update = list1[2] + '-' + list1[1] + '-' + list1[0]\n",
    "        return date_update\n",
    "        "
   ]
  },
  {
   "cell_type": "code",
   "execution_count": 3,
   "metadata": {},
   "outputs": [],
   "source": [
    "date1 = Date(2022,6,17)"
   ]
  },
  {
   "cell_type": "code",
   "execution_count": 4,
   "metadata": {},
   "outputs": [
    {
     "data": {
      "text/plain": [
       "{'year': 2022, 'month': 6, 'day': 17}"
      ]
     },
     "execution_count": 4,
     "metadata": {},
     "output_type": "execute_result"
    }
   ],
   "source": [
    "date1.__dict__"
   ]
  },
  {
   "cell_type": "code",
   "execution_count": 5,
   "metadata": {},
   "outputs": [
    {
     "data": {
      "text/plain": [
       "'17-6-2022'"
      ]
     },
     "execution_count": 5,
     "metadata": {},
     "output_type": "execute_result"
    }
   ],
   "source": [
    "date1.arrange_value_into_date()"
   ]
  },
  {
   "cell_type": "code",
   "execution_count": 6,
   "metadata": {},
   "outputs": [],
   "source": [
    "date2 = Date.getDatafromString('Today is 17-06-2022')"
   ]
  },
  {
   "cell_type": "code",
   "execution_count": 7,
   "metadata": {},
   "outputs": [
    {
     "data": {
      "text/plain": [
       "{'year': '2022', 'month': '06', 'day': '17'}"
      ]
     },
     "execution_count": 7,
     "metadata": {},
     "output_type": "execute_result"
    }
   ],
   "source": [
    "date2.__dict__"
   ]
  },
  {
   "cell_type": "code",
   "execution_count": 8,
   "metadata": {},
   "outputs": [],
   "source": [
    "date3 = Date(2022,6,17)"
   ]
  },
  {
   "cell_type": "code",
   "execution_count": 10,
   "metadata": {},
   "outputs": [
    {
     "data": {
      "text/plain": [
       "'17-06-2022'"
      ]
     },
     "execution_count": 10,
     "metadata": {},
     "output_type": "execute_result"
    }
   ],
   "source": [
    "date3.setDatePattern('2022-06-17')"
   ]
  },
  {
   "cell_type": "code",
   "execution_count": 11,
   "metadata": {},
   "outputs": [
    {
     "data": {
      "text/plain": [
       "{'year': 2022, 'month': 6, 'day': 17}"
      ]
     },
     "execution_count": 11,
     "metadata": {},
     "output_type": "execute_result"
    },
    {
     "ename": "",
     "evalue": "",
     "output_type": "error",
     "traceback": [
      "\u001b[1;31mThe Kernel crashed while executing code in the current cell or a previous cell. \n",
      "\u001b[1;31mPlease review the code in the cell(s) to identify a possible cause of the failure. \n",
      "\u001b[1;31mClick <a href='https://aka.ms/vscodeJupyterKernelCrash'>here</a> for more info. \n",
      "\u001b[1;31mView Jupyter <a href='command:jupyter.viewOutput'>log</a> for further details."
     ]
    }
   ],
   "source": [
    "date3.__dict__"
   ]
  }
 ],
 "metadata": {
  "kernelspec": {
   "display_name": "Python 3",
   "language": "python",
   "name": "python3"
  },
  "language_info": {
   "codemirror_mode": {
    "name": "ipython",
    "version": 3
   },
   "file_extension": ".py",
   "mimetype": "text/x-python",
   "name": "python",
   "nbconvert_exporter": "python",
   "pygments_lexer": "ipython3",
   "version": "3.12.9"
  }
 },
 "nbformat": 4,
 "nbformat_minor": 2
}
