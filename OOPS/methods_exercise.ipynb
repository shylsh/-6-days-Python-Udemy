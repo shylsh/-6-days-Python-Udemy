{
 "cells": [
  {
   "cell_type": "code",
   "execution_count": 14,
   "metadata": {},
   "outputs": [],
   "source": [
    "class Student():\n",
    "    def __init__(self, name, marks):\n",
    "        self.name = name \n",
    "        self.marks = marks\n",
    "    \n",
    "    def result(self):\n",
    "        if self.marks >= 35:\n",
    "            return 'pass'\n",
    "        else:\n",
    "            return 'fail'"
   ]
  },
  {
   "cell_type": "code",
   "execution_count": 15,
   "metadata": {},
   "outputs": [],
   "source": [
    "s1 = Student('s',50)\n",
    "s2 = Student('p',30)\n",
    "s3 = Student('q',40)\n",
    "s4 = Student('r',90)\n",
    "s5 = Student('f',76)\n",
    "s6 = Student('t',20)\n",
    "s7 = Student('u',90)\n",
    "s8 = Student('v',87)"
   ]
  },
  {
   "cell_type": "code",
   "execution_count": 16,
   "metadata": {},
   "outputs": [],
   "source": [
    "student_object = {s1,s2,s3,s4,s5,s6,s7,s8}"
   ]
  },
  {
   "cell_type": "code",
   "execution_count": 17,
   "metadata": {},
   "outputs": [],
   "source": [
    "pass_students = []\n",
    "fail_students = []\n",
    "student_result = {}\n",
    "for x in student_object:\n",
    "    if x.result() == 'pass':\n",
    "        pass_students.append(x.name)\n",
    "        student_result['Pass Students'] = pass_students\n",
    "    else:\n",
    "        fail_students.append(x.name)\n",
    "        student_result['Fail Students'] = fail_students"
   ]
  },
  {
   "cell_type": "code",
   "execution_count": 18,
   "metadata": {},
   "outputs": [
    {
     "data": {
      "text/plain": [
       "{'Pass Students': ['f', 'r', 'u', 's', 'v', 'q'], 'Fail Students': ['p', 't']}"
      ]
     },
     "execution_count": 18,
     "metadata": {},
     "output_type": "execute_result"
    }
   ],
   "source": [
    "student_result"
   ]
  },
  {
   "cell_type": "code",
   "execution_count": 27,
   "metadata": {},
   "outputs": [],
   "source": [
    "class Product:\n",
    "    def __init__(self,product_name, price):\n",
    "        self.product_name = product_name\n",
    "        self.price = price\n",
    "    \n",
    "    def discount(self,discount_value):\n",
    "        discount_amount = (self.price /100) * discount_value\n",
    "        final_price = self.price - discount_amount\n",
    "        return int(final_price)\n",
    "        "
   ]
  },
  {
   "cell_type": "code",
   "execution_count": 28,
   "metadata": {},
   "outputs": [],
   "source": [
    "p1 = Product('iphone',79999)\n",
    "p2 = Product('Laptop',100000)\n",
    "p3 = Product('Mouse',3000)\n",
    "p4 = Product('ipad', 55999)"
   ]
  },
  {
   "cell_type": "code",
   "execution_count": 30,
   "metadata": {},
   "outputs": [
    {
     "data": {
      "text/plain": [
       "67999"
      ]
     },
     "execution_count": 30,
     "metadata": {},
     "output_type": "execute_result"
    }
   ],
   "source": [
    "p1.discount(15)"
   ]
  },
  {
   "cell_type": "code",
   "execution_count": 31,
   "metadata": {},
   "outputs": [
    {
     "data": {
      "text/plain": [
       "75000"
      ]
     },
     "execution_count": 31,
     "metadata": {},
     "output_type": "execute_result"
    }
   ],
   "source": [
    "p2.discount(25)"
   ]
  }
 ],
 "metadata": {
  "kernelspec": {
   "display_name": "Python 3",
   "language": "python",
   "name": "python3"
  },
  "language_info": {
   "codemirror_mode": {
    "name": "ipython",
    "version": 3
   },
   "file_extension": ".py",
   "mimetype": "text/x-python",
   "name": "python",
   "nbconvert_exporter": "python",
   "pygments_lexer": "ipython3",
   "version": "3.12.8"
  }
 },
 "nbformat": 4,
 "nbformat_minor": 2
}
