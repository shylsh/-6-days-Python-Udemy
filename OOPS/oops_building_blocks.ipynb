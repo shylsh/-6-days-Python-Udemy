{
 "cells": [
  {
   "cell_type": "code",
   "execution_count": 2,
   "metadata": {},
   "outputs": [],
   "source": [
    "class Phone: # Base Class/ Parent class\n",
    "    def __init__(self,brand,model_name,price):\n",
    "        self.brand = brand\n",
    "        self.model_name = model_name\n",
    "        self.price = price\n",
    "    \n",
    "    @staticmethod\n",
    "    def make_a_call(phone_num):\n",
    "        print(f'calling {phone_num}....')\n",
    "        \n",
    "    def full_name(self):\n",
    "        print(f'{self.brand} {self.model_name}')"
   ]
  },
  {
   "cell_type": "code",
   "execution_count": 3,
   "metadata": {},
   "outputs": [],
   "source": [
    "phone1 = Phone('Nokia',1100,4000)"
   ]
  },
  {
   "cell_type": "code",
   "execution_count": 4,
   "metadata": {},
   "outputs": [
    {
     "data": {
      "text/plain": [
       "{'brand': 'Nokia', 'model_name': 1100, 'price': 4000}"
      ]
     },
     "execution_count": 4,
     "metadata": {},
     "output_type": "execute_result"
    }
   ],
   "source": [
    "phone1.__dict__"
   ]
  },
  {
   "cell_type": "code",
   "execution_count": 5,
   "metadata": {},
   "outputs": [
    {
     "name": "stdout",
     "output_type": "stream",
     "text": [
      "calling 8892614459....\n"
     ]
    }
   ],
   "source": [
    "phone1.make_a_call('8892614459')"
   ]
  },
  {
   "cell_type": "code",
   "execution_count": 6,
   "metadata": {},
   "outputs": [
    {
     "name": "stdout",
     "output_type": "stream",
     "text": [
      "Nokia 1100\n"
     ]
    }
   ],
   "source": [
    "phone1.full_name()"
   ]
  },
  {
   "cell_type": "code",
   "execution_count": 7,
   "metadata": {},
   "outputs": [
    {
     "name": "stderr",
     "output_type": "stream",
     "text": [
      "<>:14: SyntaxWarning: invalid escape sequence '\\d'\n",
      "<>:14: SyntaxWarning: invalid escape sequence '\\d'\n",
      "C:\\Users\\shail\\AppData\\Local\\Temp\\ipykernel_36972\\95110389.py:14: SyntaxWarning: invalid escape sequence '\\d'\n",
      "  data = re.findall('\\d{2}-\\d{2}-\\d{4}|\\d{2}/\\d{2}/\\d{4}',string)[0]  # 17/06/2022\n"
     ]
    }
   ],
   "source": [
    "class Date:\n",
    "    def __init__(self,year,month,day):      #Contructor / Init Method\n",
    "        self.year=year\n",
    "        self.month=month\n",
    "        self.day = day\n",
    "    \n",
    "    def arrange_value_into_Date_pattern(self):        #Instance Method\n",
    "        date = str(self.day) + '-' + str(self.month) + '-' +  str(self.year)\n",
    "        return date\n",
    "    \n",
    "    @classmethod\n",
    "    def getDataformString(clr,string):           #class method\n",
    "        import re\n",
    "        data = re.findall('\\d{2}-\\d{2}-\\d{4}|\\d{2}/\\d{2}/\\d{4}',string)[0]  # 17/06/2022\n",
    "        list_date= data.replace('/','-').split('-')\n",
    "        print(list_date)\n",
    "        day =  list_date[0]\n",
    "        month =  list_date[1]\n",
    "        year =  list_date[2]\n",
    "        return clr(year,month,day)\n",
    "    \n",
    "    @staticmethod     # 2022-06-17 ---> 17-06-2022\n",
    "    def setDatePattern(string):\n",
    "        list1 = string.replace('/','-').split('-')\n",
    "        print(list1)\n",
    "        date_update = list1[2] + '-' + list1[1]  + '-' + list1[0]\n",
    "        return date_update"
   ]
  },
  {
   "cell_type": "code",
   "execution_count": 8,
   "metadata": {},
   "outputs": [],
   "source": [
    "class SmartPhone(Phone): # Derived Class/ Child Class\n",
    "    def __init__(self,brand,model_name,price,ram,internal_memory,rare_camera): \n",
    "        \n",
    "        super().__init__(brand,model_name,price) # Common way of inheritence\n",
    "        \n",
    "        #Phone.__init__(self,brand,model_name,price) # Uncommon way of inheritence\n",
    "        self.ram = ram\n",
    "        self.internal_memory = internal_memory\n",
    "        self.rare_camera = rare_camera\n",
    "    \n",
    "    @staticmethod\n",
    "    def make_a_call(phone_num):\n",
    "        print(f'calling {phone_num}....')\n",
    "        \n",
    "    def full_name(self):\n",
    "        print(f'{self.brand} {self.model_name}')"
   ]
  },
  {
   "cell_type": "code",
   "execution_count": 9,
   "metadata": {},
   "outputs": [],
   "source": [
    "s1 = SmartPhone('apple','iphone 13',70000, 8,128,32)"
   ]
  },
  {
   "cell_type": "code",
   "execution_count": 10,
   "metadata": {},
   "outputs": [
    {
     "data": {
      "text/plain": [
       "{'brand': 'apple',\n",
       " 'model_name': 'iphone 13',\n",
       " 'price': 70000,\n",
       " 'ram': 8,\n",
       " 'internal_memory': 128,\n",
       " 'rare_camera': 32}"
      ]
     },
     "execution_count": 10,
     "metadata": {},
     "output_type": "execute_result"
    }
   ],
   "source": [
    "s1.__dict__"
   ]
  },
  {
   "cell_type": "code",
   "execution_count": 11,
   "metadata": {},
   "outputs": [
    {
     "name": "stdout",
     "output_type": "stream",
     "text": [
      "apple iphone 13\n"
     ]
    }
   ],
   "source": [
    "s1.full_name()"
   ]
  },
  {
   "cell_type": "code",
   "execution_count": 14,
   "metadata": {},
   "outputs": [],
   "source": [
    "class SmartPhone2(Phone): # Derived Class/ Child Class\n",
    "    def __init__(self,brand,model_name,price,ram,internal_memory,rare_camera,fron_camera): \n",
    "        \n",
    "        super().__init__(brand,model_name,price) # Common way of inheritence\n",
    "        \n",
    "        #Phone.__init__(self,brand,model_name,price) # Uncommon way of inheritence\n",
    "        self.ram = ram\n",
    "        self.internal_memory = internal_memory\n",
    "        self.rare_camera = rare_camera\n",
    "        self.front_camera = front_camera"
   ]
  },
  {
   "cell_type": "code",
   "execution_count": 13,
   "metadata": {},
   "outputs": [
    {
     "data": {
      "text/plain": [
       "__main__.SmartPhone2"
      ]
     },
     "execution_count": 13,
     "metadata": {},
     "output_type": "execute_result"
    }
   ],
   "source": [
    "s2 = SmartPhone2('Samsung','A2',6000,'4GB','128GB','32MP','')"
   ]
  }
 ],
 "metadata": {
  "kernelspec": {
   "display_name": "Python 3",
   "language": "python",
   "name": "python3"
  },
  "language_info": {
   "codemirror_mode": {
    "name": "ipython",
    "version": 3
   },
   "file_extension": ".py",
   "mimetype": "text/x-python",
   "name": "python",
   "nbconvert_exporter": "python",
   "pygments_lexer": "ipython3",
   "version": "3.12.9"
  }
 },
 "nbformat": 4,
 "nbformat_minor": 2
}
